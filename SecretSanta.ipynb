{
 "cells": [
  {
   "cell_type": "code",
   "execution_count": null,
   "id": "3c0efdd7",
   "metadata": {},
   "outputs": [],
   "source": [
    "import random\n",
    "\n",
    "names = ['Ally', 'Scott', 'Drew', 'Olivia', 'Emmy', 'Mike']\n",
    "me = input(str('my name is: '))\n",
    "sig = input(str('my significant other is :'))\n",
    "\n",
    "def SecretSanta(me, sig):\n",
    "    rand = random.choice(names)\n",
    "    if rand in me:\n",
    "        return\n",
    "    if rand in sig:\n",
    "        return\n",
    "    else:\n",
    "        print(rand)"
   ]
  },
  {
   "cell_type": "code",
   "execution_count": null,
   "id": "c240a710",
   "metadata": {},
   "outputs": [],
   "source": [
    "SecretSanta(me, sig)"
   ]
  },
  {
   "cell_type": "code",
   "execution_count": null,
   "id": "1b590941",
   "metadata": {},
   "outputs": [],
   "source": []
  }
 ],
 "metadata": {
  "kernelspec": {
   "display_name": "Python 3 (ipykernel)",
   "language": "python",
   "name": "python3"
  },
  "language_info": {
   "codemirror_mode": {
    "name": "ipython",
    "version": 3
   },
   "file_extension": ".py",
   "mimetype": "text/x-python",
   "name": "python",
   "nbconvert_exporter": "python",
   "pygments_lexer": "ipython3",
   "version": "3.9.7"
  }
 },
 "nbformat": 4,
 "nbformat_minor": 5
}
